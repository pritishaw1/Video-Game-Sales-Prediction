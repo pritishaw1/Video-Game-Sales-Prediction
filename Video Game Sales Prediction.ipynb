{
 "cells": [
  {
   "cell_type": "code",
   "execution_count": 1,
   "metadata": {},
   "outputs": [],
   "source": [
    "import pandas as pd\n",
    "import warnings\n",
    "warnings.filterwarnings('ignore')\n",
    "import numpy as np\n",
    "import seaborn as sns\n",
    "import matplotlib.pyplot as plt\n",
    "%matplotlib inline"
   ]
  },
  {
   "cell_type": "code",
   "execution_count": 2,
   "metadata": {},
   "outputs": [],
   "source": [
    "df = pd.read_csv(r'train_game.csv')"
   ]
  },
  {
   "cell_type": "code",
   "execution_count": 3,
   "metadata": {},
   "outputs": [
    {
     "data": {
      "text/html": [
       "<div>\n",
       "<style scoped>\n",
       "    .dataframe tbody tr th:only-of-type {\n",
       "        vertical-align: middle;\n",
       "    }\n",
       "\n",
       "    .dataframe tbody tr th {\n",
       "        vertical-align: top;\n",
       "    }\n",
       "\n",
       "    .dataframe thead th {\n",
       "        text-align: right;\n",
       "    }\n",
       "</style>\n",
       "<table border=\"1\" class=\"dataframe\">\n",
       "  <thead>\n",
       "    <tr style=\"text-align: right;\">\n",
       "      <th></th>\n",
       "      <th>ID</th>\n",
       "      <th>CONSOLE</th>\n",
       "      <th>YEAR</th>\n",
       "      <th>CATEGORY</th>\n",
       "      <th>PUBLISHER</th>\n",
       "      <th>RATING</th>\n",
       "      <th>CRITICS_POINTS</th>\n",
       "      <th>USER_POINTS</th>\n",
       "      <th>SalesInMillions</th>\n",
       "    </tr>\n",
       "  </thead>\n",
       "  <tbody>\n",
       "    <tr>\n",
       "      <th>0</th>\n",
       "      <td>2860</td>\n",
       "      <td>ds</td>\n",
       "      <td>2008</td>\n",
       "      <td>role-playing</td>\n",
       "      <td>Nintendo</td>\n",
       "      <td>E</td>\n",
       "      <td>2.833333</td>\n",
       "      <td>0.303704</td>\n",
       "      <td>1.779257</td>\n",
       "    </tr>\n",
       "    <tr>\n",
       "      <th>1</th>\n",
       "      <td>731</td>\n",
       "      <td>wii</td>\n",
       "      <td>2012</td>\n",
       "      <td>simulation</td>\n",
       "      <td>Konami Digital Entertainment</td>\n",
       "      <td>E10+</td>\n",
       "      <td>13.200000</td>\n",
       "      <td>1.640000</td>\n",
       "      <td>0.215050</td>\n",
       "    </tr>\n",
       "    <tr>\n",
       "      <th>2</th>\n",
       "      <td>495</td>\n",
       "      <td>pc</td>\n",
       "      <td>2019</td>\n",
       "      <td>shooter</td>\n",
       "      <td>Activision</td>\n",
       "      <td>M</td>\n",
       "      <td>4.562500</td>\n",
       "      <td>0.006410</td>\n",
       "      <td>0.534402</td>\n",
       "    </tr>\n",
       "    <tr>\n",
       "      <th>3</th>\n",
       "      <td>2641</td>\n",
       "      <td>ps2</td>\n",
       "      <td>2002</td>\n",
       "      <td>sports</td>\n",
       "      <td>Electronic Arts</td>\n",
       "      <td>E</td>\n",
       "      <td>4.181818</td>\n",
       "      <td>0.326923</td>\n",
       "      <td>1.383964</td>\n",
       "    </tr>\n",
       "    <tr>\n",
       "      <th>4</th>\n",
       "      <td>811</td>\n",
       "      <td>ps3</td>\n",
       "      <td>2013</td>\n",
       "      <td>action</td>\n",
       "      <td>Activision</td>\n",
       "      <td>M</td>\n",
       "      <td>2.259259</td>\n",
       "      <td>0.032579</td>\n",
       "      <td>0.082671</td>\n",
       "    </tr>\n",
       "  </tbody>\n",
       "</table>\n",
       "</div>"
      ],
      "text/plain": [
       "     ID CONSOLE  YEAR      CATEGORY                     PUBLISHER RATING  \\\n",
       "0  2860      ds  2008  role-playing                      Nintendo      E   \n",
       "1   731     wii  2012    simulation  Konami Digital Entertainment   E10+   \n",
       "2   495      pc  2019       shooter                    Activision      M   \n",
       "3  2641     ps2  2002        sports               Electronic Arts      E   \n",
       "4   811     ps3  2013        action                    Activision      M   \n",
       "\n",
       "   CRITICS_POINTS  USER_POINTS  SalesInMillions  \n",
       "0        2.833333     0.303704         1.779257  \n",
       "1       13.200000     1.640000         0.215050  \n",
       "2        4.562500     0.006410         0.534402  \n",
       "3        4.181818     0.326923         1.383964  \n",
       "4        2.259259     0.032579         0.082671  "
      ]
     },
     "execution_count": 3,
     "metadata": {},
     "output_type": "execute_result"
    }
   ],
   "source": [
    "df.head()"
   ]
  },
  {
   "cell_type": "code",
   "execution_count": 4,
   "metadata": {},
   "outputs": [
    {
     "data": {
      "text/plain": [
       "(3506, 9)"
      ]
     },
     "execution_count": 4,
     "metadata": {},
     "output_type": "execute_result"
    }
   ],
   "source": [
    "df.shape"
   ]
  },
  {
   "cell_type": "code",
   "execution_count": 5,
   "metadata": {},
   "outputs": [
    {
     "data": {
      "text/plain": [
       "ID                   int64\n",
       "CONSOLE             object\n",
       "YEAR                 int64\n",
       "CATEGORY            object\n",
       "PUBLISHER           object\n",
       "RATING              object\n",
       "CRITICS_POINTS     float64\n",
       "USER_POINTS        float64\n",
       "SalesInMillions    float64\n",
       "dtype: object"
      ]
     },
     "execution_count": 5,
     "metadata": {},
     "output_type": "execute_result"
    }
   ],
   "source": [
    "df.dtypes"
   ]
  },
  {
   "cell_type": "code",
   "execution_count": 6,
   "metadata": {},
   "outputs": [],
   "source": [
    "from sklearn.preprocessing import LabelEncoder\n",
    "LE = LabelEncoder()\n",
    "df['CONSOLE'] = LE.fit_transform(df['CONSOLE'])\n",
    "df['CATEGORY'] = LE.fit_transform(df['CATEGORY'])\n",
    "df['PUBLISHER'] = LE.fit_transform(df['PUBLISHER'])\n",
    "df['RATING'] = LE.fit_transform(df['RATING'])"
   ]
  },
  {
   "cell_type": "code",
   "execution_count": 7,
   "metadata": {},
   "outputs": [
    {
     "data": {
      "text/html": [
       "<div>\n",
       "<style scoped>\n",
       "    .dataframe tbody tr th:only-of-type {\n",
       "        vertical-align: middle;\n",
       "    }\n",
       "\n",
       "    .dataframe tbody tr th {\n",
       "        vertical-align: top;\n",
       "    }\n",
       "\n",
       "    .dataframe thead th {\n",
       "        text-align: right;\n",
       "    }\n",
       "</style>\n",
       "<table border=\"1\" class=\"dataframe\">\n",
       "  <thead>\n",
       "    <tr style=\"text-align: right;\">\n",
       "      <th></th>\n",
       "      <th>ID</th>\n",
       "      <th>CONSOLE</th>\n",
       "      <th>YEAR</th>\n",
       "      <th>CATEGORY</th>\n",
       "      <th>PUBLISHER</th>\n",
       "      <th>RATING</th>\n",
       "      <th>CRITICS_POINTS</th>\n",
       "      <th>USER_POINTS</th>\n",
       "      <th>SalesInMillions</th>\n",
       "    </tr>\n",
       "  </thead>\n",
       "  <tbody>\n",
       "    <tr>\n",
       "      <th>0</th>\n",
       "      <td>2860</td>\n",
       "      <td>2</td>\n",
       "      <td>2008</td>\n",
       "      <td>7</td>\n",
       "      <td>121</td>\n",
       "      <td>0</td>\n",
       "      <td>2.833333</td>\n",
       "      <td>0.303704</td>\n",
       "      <td>1.779257</td>\n",
       "    </tr>\n",
       "    <tr>\n",
       "      <th>1</th>\n",
       "      <td>731</td>\n",
       "      <td>12</td>\n",
       "      <td>2012</td>\n",
       "      <td>9</td>\n",
       "      <td>95</td>\n",
       "      <td>1</td>\n",
       "      <td>13.200000</td>\n",
       "      <td>1.640000</td>\n",
       "      <td>0.215050</td>\n",
       "    </tr>\n",
       "    <tr>\n",
       "      <th>2</th>\n",
       "      <td>495</td>\n",
       "      <td>5</td>\n",
       "      <td>2019</td>\n",
       "      <td>8</td>\n",
       "      <td>7</td>\n",
       "      <td>3</td>\n",
       "      <td>4.562500</td>\n",
       "      <td>0.006410</td>\n",
       "      <td>0.534402</td>\n",
       "    </tr>\n",
       "    <tr>\n",
       "      <th>3</th>\n",
       "      <td>2641</td>\n",
       "      <td>7</td>\n",
       "      <td>2002</td>\n",
       "      <td>10</td>\n",
       "      <td>49</td>\n",
       "      <td>0</td>\n",
       "      <td>4.181818</td>\n",
       "      <td>0.326923</td>\n",
       "      <td>1.383964</td>\n",
       "    </tr>\n",
       "    <tr>\n",
       "      <th>4</th>\n",
       "      <td>811</td>\n",
       "      <td>8</td>\n",
       "      <td>2013</td>\n",
       "      <td>0</td>\n",
       "      <td>7</td>\n",
       "      <td>3</td>\n",
       "      <td>2.259259</td>\n",
       "      <td>0.032579</td>\n",
       "      <td>0.082671</td>\n",
       "    </tr>\n",
       "  </tbody>\n",
       "</table>\n",
       "</div>"
      ],
      "text/plain": [
       "     ID  CONSOLE  YEAR  CATEGORY  PUBLISHER  RATING  CRITICS_POINTS  \\\n",
       "0  2860        2  2008         7        121       0        2.833333   \n",
       "1   731       12  2012         9         95       1       13.200000   \n",
       "2   495        5  2019         8          7       3        4.562500   \n",
       "3  2641        7  2002        10         49       0        4.181818   \n",
       "4   811        8  2013         0          7       3        2.259259   \n",
       "\n",
       "   USER_POINTS  SalesInMillions  \n",
       "0     0.303704         1.779257  \n",
       "1     1.640000         0.215050  \n",
       "2     0.006410         0.534402  \n",
       "3     0.326923         1.383964  \n",
       "4     0.032579         0.082671  "
      ]
     },
     "execution_count": 7,
     "metadata": {},
     "output_type": "execute_result"
    }
   ],
   "source": [
    "df.head()"
   ]
  },
  {
   "cell_type": "code",
   "execution_count": 8,
   "metadata": {},
   "outputs": [
    {
     "data": {
      "text/plain": [
       "ID                 0\n",
       "CONSOLE            0\n",
       "YEAR               0\n",
       "CATEGORY           0\n",
       "PUBLISHER          0\n",
       "RATING             0\n",
       "CRITICS_POINTS     0\n",
       "USER_POINTS        0\n",
       "SalesInMillions    0\n",
       "dtype: int64"
      ]
     },
     "execution_count": 8,
     "metadata": {},
     "output_type": "execute_result"
    }
   ],
   "source": [
    "df.isnull().sum()"
   ]
  },
  {
   "cell_type": "code",
   "execution_count": 9,
   "metadata": {},
   "outputs": [
    {
     "data": {
      "text/plain": [
       "ID                   int64\n",
       "CONSOLE              int32\n",
       "YEAR                 int64\n",
       "CATEGORY             int32\n",
       "PUBLISHER            int32\n",
       "RATING               int32\n",
       "CRITICS_POINTS     float64\n",
       "USER_POINTS        float64\n",
       "SalesInMillions    float64\n",
       "dtype: object"
      ]
     },
     "execution_count": 9,
     "metadata": {},
     "output_type": "execute_result"
    }
   ],
   "source": [
    "df.dtypes"
   ]
  },
  {
   "cell_type": "code",
   "execution_count": 10,
   "metadata": {},
   "outputs": [],
   "source": [
    "test = pd.read_csv(r'test_game.csv')"
   ]
  },
  {
   "cell_type": "code",
   "execution_count": 11,
   "metadata": {},
   "outputs": [
    {
     "data": {
      "text/html": [
       "<div>\n",
       "<style scoped>\n",
       "    .dataframe tbody tr th:only-of-type {\n",
       "        vertical-align: middle;\n",
       "    }\n",
       "\n",
       "    .dataframe tbody tr th {\n",
       "        vertical-align: top;\n",
       "    }\n",
       "\n",
       "    .dataframe thead th {\n",
       "        text-align: right;\n",
       "    }\n",
       "</style>\n",
       "<table border=\"1\" class=\"dataframe\">\n",
       "  <thead>\n",
       "    <tr style=\"text-align: right;\">\n",
       "      <th></th>\n",
       "      <th>ID</th>\n",
       "      <th>CONSOLE</th>\n",
       "      <th>YEAR</th>\n",
       "      <th>CATEGORY</th>\n",
       "      <th>PUBLISHER</th>\n",
       "      <th>RATING</th>\n",
       "      <th>CRITICS_POINTS</th>\n",
       "      <th>USER_POINTS</th>\n",
       "    </tr>\n",
       "  </thead>\n",
       "  <tbody>\n",
       "    <tr>\n",
       "      <th>0</th>\n",
       "      <td>4310</td>\n",
       "      <td>ps2</td>\n",
       "      <td>2008</td>\n",
       "      <td>action</td>\n",
       "      <td>Tecmo Koei</td>\n",
       "      <td>T</td>\n",
       "      <td>3.928571</td>\n",
       "      <td>0.482353</td>\n",
       "    </tr>\n",
       "    <tr>\n",
       "      <th>1</th>\n",
       "      <td>4011</td>\n",
       "      <td>psp</td>\n",
       "      <td>2007</td>\n",
       "      <td>strategy</td>\n",
       "      <td>Atari</td>\n",
       "      <td>E10+</td>\n",
       "      <td>5.538462</td>\n",
       "      <td>0.071795</td>\n",
       "    </tr>\n",
       "    <tr>\n",
       "      <th>2</th>\n",
       "      <td>2185</td>\n",
       "      <td>ps2</td>\n",
       "      <td>2004</td>\n",
       "      <td>shooter</td>\n",
       "      <td>Electronic Arts</td>\n",
       "      <td>T</td>\n",
       "      <td>3.034483</td>\n",
       "      <td>0.062044</td>\n",
       "    </tr>\n",
       "    <tr>\n",
       "      <th>3</th>\n",
       "      <td>1644</td>\n",
       "      <td>x</td>\n",
       "      <td>2006</td>\n",
       "      <td>action</td>\n",
       "      <td>Electronic Arts</td>\n",
       "      <td>E</td>\n",
       "      <td>2.913043</td>\n",
       "      <td>0.880000</td>\n",
       "    </tr>\n",
       "    <tr>\n",
       "      <th>4</th>\n",
       "      <td>188</td>\n",
       "      <td>3ds</td>\n",
       "      <td>2011</td>\n",
       "      <td>racing</td>\n",
       "      <td>Ubisoft</td>\n",
       "      <td>E10+</td>\n",
       "      <td>1.162162</td>\n",
       "      <td>0.183333</td>\n",
       "    </tr>\n",
       "  </tbody>\n",
       "</table>\n",
       "</div>"
      ],
      "text/plain": [
       "     ID CONSOLE  YEAR  CATEGORY        PUBLISHER RATING  CRITICS_POINTS  \\\n",
       "0  4310     ps2  2008    action       Tecmo Koei      T        3.928571   \n",
       "1  4011     psp  2007  strategy            Atari   E10+        5.538462   \n",
       "2  2185     ps2  2004   shooter  Electronic Arts      T        3.034483   \n",
       "3  1644       x  2006    action  Electronic Arts      E        2.913043   \n",
       "4   188     3ds  2011    racing          Ubisoft   E10+        1.162162   \n",
       "\n",
       "   USER_POINTS  \n",
       "0     0.482353  \n",
       "1     0.071795  \n",
       "2     0.062044  \n",
       "3     0.880000  \n",
       "4     0.183333  "
      ]
     },
     "execution_count": 11,
     "metadata": {},
     "output_type": "execute_result"
    }
   ],
   "source": [
    "test.head()"
   ]
  },
  {
   "cell_type": "code",
   "execution_count": 12,
   "metadata": {},
   "outputs": [
    {
     "data": {
      "text/plain": [
       "(1503, 8)"
      ]
     },
     "execution_count": 12,
     "metadata": {},
     "output_type": "execute_result"
    }
   ],
   "source": [
    "test.shape"
   ]
  },
  {
   "cell_type": "code",
   "execution_count": 13,
   "metadata": {},
   "outputs": [
    {
     "data": {
      "text/plain": [
       "ID                  int64\n",
       "CONSOLE            object\n",
       "YEAR                int64\n",
       "CATEGORY           object\n",
       "PUBLISHER          object\n",
       "RATING             object\n",
       "CRITICS_POINTS    float64\n",
       "USER_POINTS       float64\n",
       "dtype: object"
      ]
     },
     "execution_count": 13,
     "metadata": {},
     "output_type": "execute_result"
    }
   ],
   "source": [
    "test.dtypes"
   ]
  },
  {
   "cell_type": "code",
   "execution_count": 14,
   "metadata": {},
   "outputs": [],
   "source": [
    "from sklearn.preprocessing import LabelEncoder\n",
    "LE = LabelEncoder()\n",
    "test['CONSOLE'] = LE.fit_transform(test['CONSOLE'])\n",
    "test['CATEGORY'] = LE.fit_transform(test['CATEGORY'])\n",
    "test['PUBLISHER'] = LE.fit_transform(test['PUBLISHER'])\n",
    "test['RATING'] = LE.fit_transform(test['RATING'])"
   ]
  },
  {
   "cell_type": "code",
   "execution_count": 15,
   "metadata": {},
   "outputs": [
    {
     "data": {
      "text/plain": [
       "ID                0\n",
       "CONSOLE           0\n",
       "YEAR              0\n",
       "CATEGORY          0\n",
       "PUBLISHER         0\n",
       "RATING            0\n",
       "CRITICS_POINTS    0\n",
       "USER_POINTS       0\n",
       "dtype: int64"
      ]
     },
     "execution_count": 15,
     "metadata": {},
     "output_type": "execute_result"
    }
   ],
   "source": [
    "test.isnull().sum()"
   ]
  },
  {
   "cell_type": "code",
   "execution_count": 16,
   "metadata": {},
   "outputs": [
    {
     "data": {
      "text/html": [
       "<div>\n",
       "<style scoped>\n",
       "    .dataframe tbody tr th:only-of-type {\n",
       "        vertical-align: middle;\n",
       "    }\n",
       "\n",
       "    .dataframe tbody tr th {\n",
       "        vertical-align: top;\n",
       "    }\n",
       "\n",
       "    .dataframe thead th {\n",
       "        text-align: right;\n",
       "    }\n",
       "</style>\n",
       "<table border=\"1\" class=\"dataframe\">\n",
       "  <thead>\n",
       "    <tr style=\"text-align: right;\">\n",
       "      <th></th>\n",
       "      <th>ID</th>\n",
       "      <th>CONSOLE</th>\n",
       "      <th>YEAR</th>\n",
       "      <th>CATEGORY</th>\n",
       "      <th>PUBLISHER</th>\n",
       "      <th>RATING</th>\n",
       "      <th>CRITICS_POINTS</th>\n",
       "      <th>USER_POINTS</th>\n",
       "    </tr>\n",
       "  </thead>\n",
       "  <tbody>\n",
       "    <tr>\n",
       "      <th>0</th>\n",
       "      <td>4310</td>\n",
       "      <td>7</td>\n",
       "      <td>2008</td>\n",
       "      <td>0</td>\n",
       "      <td>116</td>\n",
       "      <td>4</td>\n",
       "      <td>3.928571</td>\n",
       "      <td>0.482353</td>\n",
       "    </tr>\n",
       "    <tr>\n",
       "      <th>1</th>\n",
       "      <td>4011</td>\n",
       "      <td>10</td>\n",
       "      <td>2007</td>\n",
       "      <td>11</td>\n",
       "      <td>8</td>\n",
       "      <td>2</td>\n",
       "      <td>5.538462</td>\n",
       "      <td>0.071795</td>\n",
       "    </tr>\n",
       "    <tr>\n",
       "      <th>2</th>\n",
       "      <td>2185</td>\n",
       "      <td>7</td>\n",
       "      <td>2004</td>\n",
       "      <td>8</td>\n",
       "      <td>28</td>\n",
       "      <td>4</td>\n",
       "      <td>3.034483</td>\n",
       "      <td>0.062044</td>\n",
       "    </tr>\n",
       "    <tr>\n",
       "      <th>3</th>\n",
       "      <td>1644</td>\n",
       "      <td>14</td>\n",
       "      <td>2006</td>\n",
       "      <td>0</td>\n",
       "      <td>28</td>\n",
       "      <td>1</td>\n",
       "      <td>2.913043</td>\n",
       "      <td>0.880000</td>\n",
       "    </tr>\n",
       "    <tr>\n",
       "      <th>4</th>\n",
       "      <td>188</td>\n",
       "      <td>0</td>\n",
       "      <td>2011</td>\n",
       "      <td>6</td>\n",
       "      <td>122</td>\n",
       "      <td>2</td>\n",
       "      <td>1.162162</td>\n",
       "      <td>0.183333</td>\n",
       "    </tr>\n",
       "  </tbody>\n",
       "</table>\n",
       "</div>"
      ],
      "text/plain": [
       "     ID  CONSOLE  YEAR  CATEGORY  PUBLISHER  RATING  CRITICS_POINTS  \\\n",
       "0  4310        7  2008         0        116       4        3.928571   \n",
       "1  4011       10  2007        11          8       2        5.538462   \n",
       "2  2185        7  2004         8         28       4        3.034483   \n",
       "3  1644       14  2006         0         28       1        2.913043   \n",
       "4   188        0  2011         6        122       2        1.162162   \n",
       "\n",
       "   USER_POINTS  \n",
       "0     0.482353  \n",
       "1     0.071795  \n",
       "2     0.062044  \n",
       "3     0.880000  \n",
       "4     0.183333  "
      ]
     },
     "execution_count": 16,
     "metadata": {},
     "output_type": "execute_result"
    }
   ],
   "source": [
    "test.head()"
   ]
  },
  {
   "cell_type": "code",
   "execution_count": 17,
   "metadata": {},
   "outputs": [],
   "source": [
    "#df['CRITICS_POINTS_sqrt'] = np.sqrt(df.CRITICS_POINTS)\n",
    "#df['USER_POINTS_sqrt'] = np.sqrt(df.USER_POINTS)\n",
    "#df['SalesInMillions_sqrt'] = np.sqrt(df.SalesInMillions)"
   ]
  },
  {
   "cell_type": "code",
   "execution_count": 18,
   "metadata": {},
   "outputs": [],
   "source": [
    "#df[['CRITICS_POINTS_sqrt', 'USER_POINTS_sqrt']].hist(figsize=(10,4))"
   ]
  },
  {
   "cell_type": "code",
   "execution_count": 19,
   "metadata": {},
   "outputs": [],
   "source": [
    "#df.drop(['CRITICS_POINTS_sqrt', 'USER_POINTS_sqrt','SalesInMillions_sqrt'], axis=1, inplace=True)"
   ]
  },
  {
   "cell_type": "code",
   "execution_count": 20,
   "metadata": {},
   "outputs": [],
   "source": [
    "#df.dtypes"
   ]
  },
  {
   "cell_type": "code",
   "execution_count": 21,
   "metadata": {},
   "outputs": [],
   "source": [
    "#df.CRITICS_POINTS.replace({0: 0.001}, inplace=True)\n",
    "#df.USER_POINTS.replace({0: 0.001}, inplace=True)\n",
    "#df.SalesInMillions.replace({0: 0.001}, inplace=True)"
   ]
  },
  {
   "cell_type": "code",
   "execution_count": 22,
   "metadata": {},
   "outputs": [],
   "source": [
    "# Log-transforming JP_Sales and NA_Sales\n",
    "#df.CRITICS_POINTS = np.log(df.CRITICS_POINTS)\n",
    "#df.USER_POINTS = np.log(df.USER_POINTS)\n",
    "#df.SalesInMillions = np.log(df.SalesInMillions)"
   ]
  },
  {
   "cell_type": "code",
   "execution_count": 23,
   "metadata": {},
   "outputs": [],
   "source": [
    "X = df.drop('SalesInMillions', axis=1)\n",
    "y = df.SalesInMillions"
   ]
  },
  {
   "cell_type": "code",
   "execution_count": 24,
   "metadata": {},
   "outputs": [],
   "source": [
    "import numpy as np\n",
    "import pandas as pd\n",
    "import os\n",
    "import matplotlib.pyplot as plt\n",
    "import seaborn as sns\n",
    "from sklearn.preprocessing import StandardScaler\n",
    "from sklearn.model_selection import train_test_split\n",
    "from sklearn.linear_model import LinearRegression\n",
    "from sklearn.metrics import mean_squared_error"
   ]
  },
  {
   "cell_type": "code",
   "execution_count": 25,
   "metadata": {},
   "outputs": [],
   "source": [
    "X_train, X_val, y_train, y_val = train_test_split(X,y,test_size=0.3)"
   ]
  },
  {
   "cell_type": "code",
   "execution_count": 26,
   "metadata": {},
   "outputs": [
    {
     "data": {
      "text/plain": [
       "LinearRegression()"
      ]
     },
     "execution_count": 26,
     "metadata": {},
     "output_type": "execute_result"
    }
   ],
   "source": [
    "linreg = LinearRegression()\n",
    "linreg.fit(X_train, y_train)"
   ]
  },
  {
   "cell_type": "code",
   "execution_count": 27,
   "metadata": {},
   "outputs": [],
   "source": [
    "y_hat_train = linreg.predict(X_train)\n",
    "y_hat_val = linreg.predict(X_val)"
   ]
  },
  {
   "cell_type": "code",
   "execution_count": 28,
   "metadata": {},
   "outputs": [
    {
     "name": "stdout",
     "output_type": "stream",
     "text": [
      "Train MSE: 7.189532829248379\n",
      "Validation MSE: 3.3049500910067064\n"
     ]
    }
   ],
   "source": [
    "train_mse = mean_squared_error(y_train, y_hat_train)\n",
    "val_mse = mean_squared_error(y_val, y_hat_val)\n",
    "\n",
    "print(\"Train MSE:\", train_mse)\n",
    "print(\"Validation MSE:\", val_mse)"
   ]
  },
  {
   "cell_type": "code",
   "execution_count": 29,
   "metadata": {},
   "outputs": [],
   "source": [
    "#test.CRITICS_POINTS.replace({0: 0.001}, inplace=True)\n",
    "#test.USER_POINTS.replace({0: 0.001}, inplace=True)"
   ]
  },
  {
   "cell_type": "code",
   "execution_count": 30,
   "metadata": {},
   "outputs": [],
   "source": [
    "#test.CRITICS_POINTS = np.log(test.CRITICS_POINTS)\n",
    "#test.USER_POINTS = np.log(test.USER_POINTS)"
   ]
  },
  {
   "cell_type": "code",
   "execution_count": 31,
   "metadata": {},
   "outputs": [],
   "source": [
    "pred = linreg.predict(test)"
   ]
  },
  {
   "cell_type": "code",
   "execution_count": 32,
   "metadata": {},
   "outputs": [
    {
     "data": {
      "text/plain": [
       "array([1.86236898, 2.52002733, 2.43261513, ..., 2.3926638 , 2.03033605,\n",
       "       2.41645472])"
      ]
     },
     "execution_count": 32,
     "metadata": {},
     "output_type": "execute_result"
    }
   ],
   "source": [
    "pred"
   ]
  },
  {
   "cell_type": "code",
   "execution_count": 33,
   "metadata": {},
   "outputs": [],
   "source": [
    "#final = np.exp(pred)"
   ]
  },
  {
   "cell_type": "code",
   "execution_count": 34,
   "metadata": {},
   "outputs": [],
   "source": [
    "#final"
   ]
  },
  {
   "cell_type": "code",
   "execution_count": 35,
   "metadata": {},
   "outputs": [],
   "source": [
    "data = {'SalesInMillions':pred}\n",
    "new = pd.DataFrame(data)\n",
    "new_df = new[['SalesInMillions']]\n",
    "new_df.to_csv('Priti_Shaw_4.csv',index = False)"
   ]
  },
  {
   "cell_type": "code",
   "execution_count": null,
   "metadata": {},
   "outputs": [],
   "source": []
  }
 ],
 "metadata": {
  "kernelspec": {
   "display_name": "Python 3",
   "language": "python",
   "name": "python3"
  },
  "language_info": {
   "codemirror_mode": {
    "name": "ipython",
    "version": 3
   },
   "file_extension": ".py",
   "mimetype": "text/x-python",
   "name": "python",
   "nbconvert_exporter": "python",
   "pygments_lexer": "ipython3",
   "version": "3.6.4"
  }
 },
 "nbformat": 4,
 "nbformat_minor": 2
}
